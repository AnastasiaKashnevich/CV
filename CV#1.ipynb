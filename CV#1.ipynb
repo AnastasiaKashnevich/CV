{
 "cells": [
  {
   "cell_type": "code",
   "execution_count": 1,
   "metadata": {},
   "outputs": [],
   "source": [
    "import cv2\n",
    "import numpy as np"
   ]
  },
  {
   "cell_type": "code",
   "execution_count": 2,
   "metadata": {},
   "outputs": [],
   "source": [
    "# 1\n",
    "img = cv2.imread('E:\\CV\\lena.jpg')\n",
    "cv2.imshow(\"img\", img)\n",
    "cv2.waitKey(0)\n",
    "cv2.destroyAllWindows()"
   ]
  },
  {
   "cell_type": "code",
   "execution_count": 3,
   "metadata": {},
   "outputs": [],
   "source": [
    "# 2\n",
    "gray = cv2.cvtColor(img, cv2.COLOR_BGR2GRAY)\n",
    "cv2.imshow(\"gray\", gray)\n",
    "cv2.waitKey(0)\n",
    "cv2.destroyAllWindows()"
   ]
  },
  {
   "cell_type": "code",
   "execution_count": 4,
   "metadata": {},
   "outputs": [],
   "source": [
    "# 3\n",
    "contr = cv2.equalizeHist(gray)\n",
    "cv2.imshow(\"contr\", contr)\n",
    "cv2.waitKey(0)\n",
    "cv2.destroyAllWindows()"
   ]
  },
  {
   "cell_type": "code",
   "execution_count": 5,
   "metadata": {},
   "outputs": [],
   "source": [
    "# 4\n",
    "edge = cv2.Canny(contr,100,200)\n",
    "cv2.imshow(\"edge\", edge)\n",
    "cv2.waitKey(0)\n",
    "cv2.destroyAllWindows()"
   ]
  },
  {
   "cell_type": "code",
   "execution_count": 6,
   "metadata": {},
   "outputs": [],
   "source": [
    "# 5\n",
    "# Detecting corners\n",
    "dc = cv2.cornerHarris(gray, 2 , 3 , 0.04)\n",
    "\n",
    "# Normalizing\n",
    "dc_norm = np.empty(dc.shape, dtype=np.float32)\n",
    "cv2.normalize(dc, dc_norm, 0, 255, norm_type=cv2.NORM_MINMAX)\n",
    "dc_norm_scaled = cv2.convertScaleAbs(dc_norm)\n",
    "\n",
    "# Drawing a circle around corners\n",
    "for i in range(dc_norm.shape[0]):\n",
    "    for j in range(dc_norm.shape[1]):\n",
    "        if int(dc_norm[i,j]) > 150:\n",
    "            cv2.circle(edge, (j,i), 8, 255, -1)\n",
    "\n",
    "cv2.imshow('corner', edge)\n",
    "cv2.waitKey(0)\n",
    "cv2.destroyAllWindows()"
   ]
  },
  {
   "cell_type": "code",
   "execution_count": 7,
   "metadata": {},
   "outputs": [],
   "source": [
    "#6\n",
    "_,binary = cv2.threshold(contr,120,255,cv2.THRESH_BINARY)\n",
    "dist = cv2.distanceTransform(binary, cv2.DIST_L2, 3)\n",
    "cv2.normalize(dist, dist, 0, 1.0, cv2.NORM_MINMAX)\n",
    "cv2.imshow('distT', dist)\n",
    "cv2.waitKey(0)\n",
    "cv2.destroyAllWindows()"
   ]
  },
  {
   "cell_type": "code",
   "execution_count": 8,
   "metadata": {},
   "outputs": [],
   "source": [
    "#7 \n",
    "# Blur function\n",
    "def bl():  \n",
    "    for i in range(bl_image.shape[1]):\n",
    "        for j in range(bl_image.shape[0]):\n",
    "            D = int(k * dist[i][j])\n",
    "            R = int(D / 2)\n",
    "            if R == 0:\n",
    "                bl_image[i][j] = contr[i][j]\n",
    "            else:\n",
    "                x1=i-R;\n",
    "                x2=i+R;\n",
    "                y1=j-R;\n",
    "                y2=j+R;\n",
    "                \n",
    "                if x1 < 0:\n",
    "                    x1 = 0\n",
    "                if x2 >= contr.shape[1]:\n",
    "                    x2 = contr.shape[1] -1\n",
    "                if y1 < 0:\n",
    "                    y1 = 0\n",
    "                if y2 >= contr.shape[0]:\n",
    "                    y2 = contr.shape[0]-1\n",
    "        sum = integral_image[x2][y2] - integral_image[x2][y1] - integral_image[x1][y2] + integral_image[x1][y1]\n",
    "        S = (x2-x1)*(y2-y1);\n",
    "        if S == 0:\n",
    "            S = 1\n",
    "        bl_image[i][j] = int(sum / S)"
   ]
  },
  {
   "cell_type": "code",
   "execution_count": 9,
   "metadata": {},
   "outputs": [],
   "source": [
    "k = 100\n",
    "integral_image = cv2.integral(contr)\n",
    "bl_image = contr.copy()\n",
    "bl()\n",
    "cv2.imshow('Filter', bl_image)\n",
    "cv2.waitKey(0)\n",
    "cv2.destroyAllWindows()"
   ]
  }
 ],
 "metadata": {
  "kernelspec": {
   "display_name": "Python 3",
   "language": "python",
   "name": "python3"
  },
  "language_info": {
   "codemirror_mode": {
    "name": "ipython",
    "version": 3
   },
   "file_extension": ".py",
   "mimetype": "text/x-python",
   "name": "python",
   "nbconvert_exporter": "python",
   "pygments_lexer": "ipython3",
   "version": "3.8.3"
  }
 },
 "nbformat": 4,
 "nbformat_minor": 4
}
