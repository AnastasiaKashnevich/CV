{
 "cells": [
  {
   "cell_type": "code",
   "execution_count": 127,
   "metadata": {},
   "outputs": [],
   "source": [
    "import cv2\n",
    "import matplotlib.pyplot as plt\n",
    "import numpy as np"
   ]
  },
  {
   "cell_type": "markdown",
   "metadata": {},
   "source": [
    "Загружаем картинку"
   ]
  },
  {
   "cell_type": "code",
   "execution_count": 128,
   "metadata": {},
   "outputs": [],
   "source": [
    "font = cv2.FONT_HERSHEY_COMPLEX\n",
    "img = cv2.imread('dst_balls.jpg')"
   ]
  },
  {
   "cell_type": "markdown",
   "metadata": {},
   "source": [
    "Выведем ее"
   ]
  },
  {
   "cell_type": "code",
   "execution_count": 129,
   "metadata": {},
   "outputs": [],
   "source": [
    "cv2.namedWindow('sample')\n",
    "cv2.imshow(\"sample\", img)\n",
    "cv2.waitKey(0)\n",
    "cv2.destroyAllWindows()"
   ]
  },
  {
   "cell_type": "markdown",
   "metadata": {},
   "source": [
    "Бинаризируем изображение, чтобы дальше можно было найти контур"
   ]
  },
  {
   "cell_type": "code",
   "execution_count": 130,
   "metadata": {},
   "outputs": [],
   "source": [
    "#img = cv2.cvtColor(img, cv2.COLOR_BGR2RGB)\n",
    "gray = cv2.cvtColor(img, cv2.COLOR_BGR2GRAY)\n",
    "_,binary = cv2.threshold(gray,165,255,cv2.THRESH_BINARY)\n",
    "cv2.imshow(\"grey\", binary)\n",
    "cv2.waitKey(0)\n",
    "cv2.destroyAllWindows()"
   ]
  },
  {
   "cell_type": "markdown",
   "metadata": {},
   "source": [
    "Ищем контуры"
   ]
  },
  {
   "cell_type": "code",
   "execution_count": 131,
   "metadata": {},
   "outputs": [],
   "source": [
    "contours, hierarchy = cv2.findContours(binary, cv2.RETR_TREE, cv2.CHAIN_APPROX_SIMPLE)\n",
    "img = cv2.drawContours(img, contours, -1, (0, 0, 255), 1)\n",
    "cv2.imshow(\"sample\", img)\n",
    "cv2.waitKey(0)\n",
    "cv2.destroyAllWindows()"
   ]
  },
  {
   "cell_type": "markdown",
   "metadata": {},
   "source": [
    "Находим центры контуров и выведем их координаты."
   ]
  },
  {
   "cell_type": "code",
   "execution_count": 132,
   "metadata": {},
   "outputs": [
    {
     "name": "stdout",
     "output_type": "stream",
     "text": [
      "0 0\n",
      "701 795\n",
      "0 0\n",
      "713 787\n",
      "701 778\n",
      "696 773\n",
      "697 756\n",
      "786 764\n",
      "794 774\n",
      "795 772\n",
      "780 771\n",
      "780 768\n",
      "781 764\n",
      "782 760\n",
      "796 759\n",
      "795 758\n",
      "782 757\n",
      "701 749\n",
      "713 740\n",
      "709 744\n",
      "702 731\n",
      "696 726\n",
      "697 710\n",
      "786 718\n",
      "794 727\n",
      "795 726\n",
      "788 726\n",
      "788 723\n",
      "789 719\n",
      "790 714\n",
      "790 712\n",
      "794 710\n",
      "0 0\n",
      "702 703\n",
      "713 695\n",
      "718 695\n",
      "721 688\n",
      "702 685\n",
      "696 681\n",
      "0 0\n",
      "0 0\n",
      "787 669\n",
      "778 665\n",
      "536 656\n",
      "717 687\n",
      "769 797\n",
      "749 793\n",
      "751 788\n",
      "752 782\n",
      "753 780\n",
      "769 778\n",
      "728 770\n",
      "758 750\n",
      "759 743\n",
      "761 732\n",
      "730 708\n",
      "767 699\n",
      "768 695\n",
      "771 688\n",
      "769 688\n",
      "686 648\n",
      "260 491\n",
      "253 506\n",
      "0 0\n",
      "92 381\n"
     ]
    }
   ],
   "source": [
    "for c in contours:\n",
    "    # calculate moments for each contour\n",
    "    M = cv2.moments(c)\n",
    "    # calculate x,y coordinate of center\n",
    "    if M[\"m00\"] != 0:\n",
    "        cX = int(M[\"m10\"] / M[\"m00\"])\n",
    "        cY = int(M[\"m01\"] / M[\"m00\"])\n",
    "    else:\n",
    "        cX, cY = 0, 0\n",
    "    print(cX, cY)\n",
    "    #cv2.circle(img, (cX, cY), 3, (0, 0, 255), -1)\n"
   ]
  },
  {
   "cell_type": "markdown",
   "metadata": {},
   "source": [
    "Обозначим на картинке центры шаров и кия."
   ]
  },
  {
   "cell_type": "code",
   "execution_count": 133,
   "metadata": {},
   "outputs": [],
   "source": [
    "cv2.circle(img, (92, 381), 3, (0, 0, 255), -1)\n",
    "cv2.circle(img, (260, 491), 3, (0, 0, 255), -1)\n",
    "cv2.circle(img, (536, 656), 3, (0, 0, 255), -1)\n",
    "cv2.imshow(\"Image\", img)\n",
    "cv2.waitKey(0)\n",
    "cv2.destroyAllWindows()"
   ]
  },
  {
   "cell_type": "markdown",
   "metadata": {},
   "source": [
    "Находим крайние точки кия"
   ]
  },
  {
   "cell_type": "code",
   "execution_count": 134,
   "metadata": {},
   "outputs": [],
   "source": [
    "for cnt in contours :\n",
    "    approx = cv2.approxPolyDP(cnt, 0.009 * cv2.arcLength(cnt, True), True)\n",
    "    n = approx.ravel()\n",
    "    i = 0\n",
    "    for j in n :\n",
    "        if(i % 2 == 0):\n",
    "            x = n[i]\n",
    "            y = n[i + 1]\n",
    "        string = str(x) + \" \" + str(y)\n",
    "      #  if(i == 0):\n",
    "                 # текст верхней координаты.\n",
    "      #          cv2.putText(img, string, (x, y), font, 0.5, (255, 0, 0)) \n",
    "      #  else:\n",
    "      #           # текст по оставшимся координатам.\n",
    "      #          cv2.putText(img, string, (x, y), font, 0.5, (0, 255, 0)) \n",
    "      #  i = i + 1\n",
    "#cv2.imshow('image2', img) \n",
    "#cv2.waitKey(0)\n",
    "#cv2.destroyAllWindows()"
   ]
  },
  {
   "cell_type": "markdown",
   "metadata": {},
   "source": [
    "Выведем точки"
   ]
  },
  {
   "cell_type": "code",
   "execution_count": 135,
   "metadata": {},
   "outputs": [
    {
     "name": "stdout",
     "output_type": "stream",
     "text": [
      "[  0 320   1 333 190 445 193 436]\n"
     ]
    }
   ],
   "source": [
    "print (n)"
   ]
  },
  {
   "cell_type": "markdown",
   "metadata": {},
   "source": [
    "Проводим линию по направлению удара кия. Видно, что она проходит через точку центра самого кия. Рассчитываем траекторию движение 1-го шара: проводим линию от точки столкновения до центра шара. Из центра шара ведем параллельную к движению кия линию. "
   ]
  },
  {
   "cell_type": "code",
   "execution_count": 136,
   "metadata": {},
   "outputs": [],
   "source": [
    "cv2.line(img, (2, 327), (245, 472), (0, 0, 255), 2) \n",
    "cv2.line(img, (245, 472), (260, 491), (0, 0, 255), 2)\n",
    "cv2.line(img, (260, 491), (515, 643), (0, 0, 255), 2)\n",
    "cv2.imshow('image2', img) \n",
    "cv2.waitKey(0)\n",
    "cv2.destroyAllWindows()"
   ]
  },
  {
   "cell_type": "markdown",
   "metadata": {},
   "source": [
    "Проводим траекторию до 2-го шара - получаем точку столкновения."
   ]
  },
  {
   "cell_type": "code",
   "execution_count": 137,
   "metadata": {},
   "outputs": [],
   "source": [
    "cv2.line(img, (515, 643), (536, 656), (0, 0, 255), 2) \n",
    "cv2.imshow('image2', img) \n",
    "cv2.waitKey(0)\n",
    "cv2.destroyAllWindows()"
   ]
  },
  {
   "cell_type": "markdown",
   "metadata": {},
   "source": [
    "Как известно, в случае абсолютно упругого центрального удара двух шаров одинаковой массы, из которых один до удара был неподвижен, шары обмениваются скоростями, т. е. неподвижный продолжает двигаться со скоростью первого шара, а этот последний останавливается. Если же направление скорости движущегося шара не проходит через центр покоящегося шара, то в момент удара можно скорость v движущегося шара разложить по двум взаимно перпендикулярным направлениям, иэ которых одно проходит через центр покоящегося шара."
   ]
  },
  {
   "cell_type": "code",
   "execution_count": 139,
   "metadata": {},
   "outputs": [],
   "source": [
    "cv2.line(img, (536, 656), (578, 682), (0, 255, 0), 2) \n",
    "cv2.imshow('image2', img) \n",
    "cv2.waitKey(0)\n",
    "cv2.destroyAllWindows()"
   ]
  },
  {
   "cell_type": "markdown",
   "metadata": {},
   "source": [
    "Зеленая линия - направление движения 2-го шара после удара."
   ]
  }
 ],
 "metadata": {
  "kernelspec": {
   "display_name": "Python 3",
   "language": "python",
   "name": "python3"
  },
  "language_info": {
   "codemirror_mode": {
    "name": "ipython",
    "version": 3
   },
   "file_extension": ".py",
   "mimetype": "text/x-python",
   "name": "python",
   "nbconvert_exporter": "python",
   "pygments_lexer": "ipython3",
   "version": "3.8.3"
  }
 },
 "nbformat": 4,
 "nbformat_minor": 4
}
