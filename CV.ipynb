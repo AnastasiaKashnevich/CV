{
 "cells": [
  {
   "cell_type": "code",
   "execution_count": 1,
   "metadata": {},
   "outputs": [],
   "source": [
    "import cv2\n",
    "import matplotlib.pyplot as plt\n",
    "import numpy as np"
   ]
  },
  {
   "cell_type": "markdown",
   "metadata": {},
   "source": [
    "Загружаем картинку"
   ]
  },
  {
   "cell_type": "code",
   "execution_count": 2,
   "metadata": {},
   "outputs": [],
   "source": [
    "font = cv2.FONT_HERSHEY_COMPLEX\n",
    "img = cv2.imread('dst_balls.jpg')"
   ]
  },
  {
   "cell_type": "markdown",
   "metadata": {},
   "source": [
    "Выведем ее"
   ]
  },
  {
   "cell_type": "code",
   "execution_count": 3,
   "metadata": {},
   "outputs": [],
   "source": [
    "cv2.namedWindow('sample')\n",
    "cv2.imshow(\"sample\", img)\n",
    "cv2.waitKey(0)\n",
    "cv2.destroyAllWindows()"
   ]
  },
  {
   "cell_type": "markdown",
   "metadata": {},
   "source": [
    "Бинаризируем изображение, чтобы дальше можно было найти контур"
   ]
  },
  {
   "cell_type": "code",
   "execution_count": 4,
   "metadata": {},
   "outputs": [],
   "source": [
    "#img = cv2.cvtColor(img, cv2.COLOR_BGR2RGB)\n",
    "gray = cv2.cvtColor(img, cv2.COLOR_BGR2GRAY)\n",
    "_,binary = cv2.threshold(gray,165,255,cv2.THRESH_BINARY)\n",
    "cv2.imshow(\"grey\", binary)\n",
    "cv2.waitKey(0)\n",
    "cv2.destroyAllWindows()"
   ]
  },
  {
   "cell_type": "markdown",
   "metadata": {},
   "source": [
    "Ищем контуры"
   ]
  },
  {
   "cell_type": "code",
   "execution_count": 5,
   "metadata": {},
   "outputs": [],
   "source": [
    "contours, hierarchy = cv2.findContours(binary, cv2.RETR_TREE, cv2.CHAIN_APPROX_SIMPLE)\n",
    "img = cv2.drawContours(img, contours, -1, (0, 0, 255), 1)\n",
    "cv2.imshow(\"sample\", img)\n",
    "cv2.waitKey(0)\n",
    "cv2.destroyAllWindows()"
   ]
  },
  {
   "cell_type": "markdown",
   "metadata": {},
   "source": [
    "Находим крайние точки кия"
   ]
  },
  {
   "cell_type": "code",
   "execution_count": 6,
   "metadata": {},
   "outputs": [],
   "source": [
    "for cnt in contours :\n",
    "    approx = cv2.approxPolyDP(cnt, 0.009 * cv2.arcLength(cnt, True), True)\n",
    "    n = approx.ravel()\n",
    "    i = 0\n",
    "    for j in n :\n",
    "        if(i % 2 == 0):\n",
    "            x = n[i]\n",
    "            y = n[i + 1]\n",
    "        string = str(x) + \" \" + str(y)\n",
    "      #  if(i == 0):\n",
    "                 # текст верхней координаты.\n",
    "      #          cv2.putText(img, string, (x, y), font, 0.5, (255, 0, 0)) \n",
    "      #  else:\n",
    "      #           # текст по оставшимся координатам.\n",
    "      #          cv2.putText(img, string, (x, y), font, 0.5, (0, 255, 0)) \n",
    "      #  i = i + 1\n",
    "#cv2.imshow('image2', img) \n",
    "#cv2.waitKey(0)\n",
    "#cv2.destroyAllWindows()"
   ]
  },
  {
   "cell_type": "markdown",
   "metadata": {},
   "source": [
    "Выведем точки"
   ]
  },
  {
   "cell_type": "code",
   "execution_count": 7,
   "metadata": {},
   "outputs": [
    {
     "name": "stdout",
     "output_type": "stream",
     "text": [
      "[  0 320   1 333 190 445 193 436]\n"
     ]
    }
   ],
   "source": [
    "print (n)"
   ]
  },
  {
   "cell_type": "markdown",
   "metadata": {},
   "source": [
    "Расчитываем координаты середины и проводим линию. Из данного и 2-го рисунка видно, что кий ударит 1-й шар почти в центр из чего можно предположить, что он будет двигаться в направлении удара. Находим координаты точки столкновения со 2-ым шаром и доводим линию. "
   ]
  },
  {
   "cell_type": "code",
   "execution_count": 8,
   "metadata": {},
   "outputs": [],
   "source": [
    "#cv2.line(img, (2, 327), (520, 636), (0, 0, 255), 2) \n",
    "#cv2.imshow('image2', img) \n",
    "#cv2.waitKey(0)\n",
    "#cv2.destroyAllWindows()"
   ]
  },
  {
   "cell_type": "markdown",
   "metadata": {},
   "source": [
    "Определим координаты центра 2-го шара и соединим с точкой столкновения."
   ]
  },
  {
   "cell_type": "code",
   "execution_count": 9,
   "metadata": {},
   "outputs": [],
   "source": [
    "#cv2.line(img, (520, 636), (538, 657), (0, 255, 0), 2) \n",
    "#cv2.imshow('image2', img) \n",
    "#cv2.waitKey(0)\n",
    "#cv2.destroyAllWindows()"
   ]
  },
  {
   "cell_type": "markdown",
   "metadata": {},
   "source": [
    "Как известно, в случае абсолютно упругого центрального удара двух шаров одинаковой массы, из которых один до удара был неподвижен, шары обмениваются скоростями, т. е. неподвижный продолжает двигаться со скоростью первого шара, а этот последний останавливается. Если же направление скорости движущегося шара не проходит через центр покоящегося шара, то в момент удара можно скорость v движущегося шара разложить по двум взаимно перпендикулярным направлениям, иэ которых одно проходит через центр покоящегося шара. Мы можем считать, что движущийся шар обладает двумя скоростями:v1 и v2. В направлении скорости v1 происходит абсолютно упругий центральный удар, в результате которого покоившийся шар начинает двигаться со скоростью v1."
   ]
  },
  {
   "cell_type": "code",
   "execution_count": 10,
   "metadata": {},
   "outputs": [],
   "source": [
    "cv2.line(img, (538, 657), (610, 741), (0, 255, 0), 2) \n",
    "cv2.imshow('image2', img) \n",
    "cv2.waitKey(0)\n",
    "cv2.destroyAllWindows()"
   ]
  },
  {
   "cell_type": "markdown",
   "metadata": {},
   "source": [
    "Зеленая линия - направление движения 2-го шара после удара."
   ]
  }
 ],
 "metadata": {
  "kernelspec": {
   "display_name": "Python 3",
   "language": "python",
   "name": "python3"
  },
  "language_info": {
   "codemirror_mode": {
    "name": "ipython",
    "version": 3
   },
   "file_extension": ".py",
   "mimetype": "text/x-python",
   "name": "python",
   "nbconvert_exporter": "python",
   "pygments_lexer": "ipython3",
   "version": "3.8.3"
  }
 },
 "nbformat": 4,
 "nbformat_minor": 4
}
